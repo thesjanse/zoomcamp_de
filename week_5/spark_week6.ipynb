{
 "cells": [
  {
   "cell_type": "code",
   "execution_count": 12,
   "id": "1c684fae-e227-487e-aba8-7dd8f5798376",
   "metadata": {},
   "outputs": [],
   "source": [
    "import pyspark\n",
    "from pyspark.sql import SparkSession, types\n",
    "from pyspark.sql import functions as F\n",
    "\n",
    "file = \"fhvhv_tripdata_2021-02.csv\""
   ]
  },
  {
   "cell_type": "code",
   "execution_count": 2,
   "id": "588d1647-12d4-40e3-a33e-9c2cec36e184",
   "metadata": {},
   "outputs": [],
   "source": [
    "config = pyspark.SparkConf() \\\n",
    "    .setAll([('spark.executor.memory', '6g'), ('spark.executor.cores', '3'), ('spark.cores.max', '3'), ('spark.driver.memory','6g')])\n",
    "spark = SparkSession.builder \\\n",
    "    .master(\"local[*]\") \\\n",
    "    .appName('test') \\\n",
    "    .config(conf=config) \\\n",
    "    .getOrCreate()\n",
    "\n",
    "schema = types.StructType([\n",
    "    types.StructField('hvfhs_license_num', types.StringType(), True),\n",
    "    types.StructField('dispatching_base_num', types.StringType(), True),\n",
    "    types.StructField('pickup_datetime', types.TimestampType(), True),\n",
    "    types.StructField('dropoff_datetime', types.TimestampType(), True),\n",
    "    types.StructField('PULocationID', types.IntegerType(), True),\n",
    "    types.StructField('DOLocationID', types.IntegerType(), True),\n",
    "    types.StructField('SR_Flag', types.StringType(), True)\n",
    "])\n",
    "\n",
    "df = spark.read \\\n",
    "    .option(\"header\", \"true\") \\\n",
    "    .schema(schema) \\\n",
    "    .csv(file)"
   ]
  },
  {
   "cell_type": "code",
   "execution_count": 3,
   "id": "06a94963-05b4-46e9-8023-f26d1b902497",
   "metadata": {},
   "outputs": [
    {
     "name": "stdout",
     "output_type": "stream",
     "text": [
      "+-----------------+--------------------+-------------------+-------------------+------------+------------+-------+\n",
      "|hvfhs_license_num|dispatching_base_num|    pickup_datetime|   dropoff_datetime|PULocationID|DOLocationID|SR_Flag|\n",
      "+-----------------+--------------------+-------------------+-------------------+------------+------------+-------+\n",
      "|           HV0003|              B02764|2021-02-01 00:10:40|2021-02-01 00:21:09|          35|          39|   null|\n",
      "|           HV0003|              B02764|2021-02-01 00:27:23|2021-02-01 00:44:01|          39|          35|   null|\n",
      "|           HV0005|              B02510|2021-02-01 00:28:38|2021-02-01 00:38:27|          39|          91|   null|\n",
      "|           HV0005|              B02510|2021-02-01 00:43:37|2021-02-01 01:23:20|          91|         228|   null|\n",
      "|           HV0003|              B02872|2021-02-01 00:08:42|2021-02-01 00:17:57|         126|         250|   null|\n",
      "|           HV0003|              B02872|2021-02-01 00:26:02|2021-02-01 00:42:51|         208|         243|   null|\n",
      "|           HV0003|              B02872|2021-02-01 00:45:50|2021-02-01 01:02:50|         243|         220|   null|\n",
      "|           HV0003|              B02764|2021-02-01 00:06:42|2021-02-01 00:31:50|          49|          37|   null|\n",
      "|           HV0003|              B02764|2021-02-01 00:34:34|2021-02-01 00:58:13|          37|          76|   null|\n",
      "|           HV0005|              B02510|2021-02-01 00:03:43|2021-02-01 00:39:37|          80|         241|   null|\n",
      "|           HV0005|              B02510|2021-02-01 00:55:36|2021-02-01 01:08:39|         174|          51|   null|\n",
      "|           HV0005|              B02510|2021-02-01 00:06:13|2021-02-01 00:33:45|         235|         129|   null|\n",
      "|           HV0005|              B02510|2021-02-01 00:42:24|2021-02-01 01:11:31|         129|         169|   null|\n",
      "|           HV0003|              B02764|2021-02-01 00:07:05|2021-02-01 00:20:53|         226|          82|   null|\n",
      "|           HV0003|              B02764|2021-02-01 00:28:56|2021-02-01 00:33:59|          82|         129|   null|\n",
      "|           HV0003|              B02764|2021-02-01 00:44:53|2021-02-01 01:07:54|           7|          79|   null|\n",
      "|           HV0003|              B02888|2021-02-01 00:17:55|2021-02-01 00:34:41|           4|         170|   null|\n",
      "|           HV0003|              B02888|2021-02-01 00:38:14|2021-02-01 00:59:20|         164|          42|   null|\n",
      "|           HV0004|              B02800|2021-02-01 00:08:04|2021-02-01 00:24:41|         237|           4|   null|\n",
      "|           HV0004|              B02800|2021-02-01 00:30:44|2021-02-01 00:41:26|         107|          45|   null|\n",
      "+-----------------+--------------------+-------------------+-------------------+------------+------------+-------+\n",
      "only showing top 20 rows\n",
      "\n"
     ]
    }
   ],
   "source": [
    "df.show()"
   ]
  },
  {
   "cell_type": "code",
   "execution_count": 4,
   "id": "747d76ac-4b43-42db-b258-45cef7333057",
   "metadata": {},
   "outputs": [],
   "source": [
    "df = df.repartition(24)"
   ]
  },
  {
   "cell_type": "code",
   "execution_count": 5,
   "id": "a2ddf6e5-4ce6-4d41-a79f-8007e9efb9e9",
   "metadata": {},
   "outputs": [],
   "source": [
    "df.write.mode(\"overwrite\").parquet(\"fhvh/2021/02/\")"
   ]
  },
  {
   "cell_type": "code",
   "execution_count": 6,
   "id": "0072c869-ebbb-4048-bfce-9c994613b640",
   "metadata": {},
   "outputs": [],
   "source": [
    "df = spark.read.parquet(\"fhvh/2021/02/*\")"
   ]
  },
  {
   "cell_type": "code",
   "execution_count": 7,
   "id": "86a77743-6e2e-4a88-9dc3-809a2a677c40",
   "metadata": {},
   "outputs": [
    {
     "name": "stdout",
     "output_type": "stream",
     "text": [
      "+-----------------+--------------------+-------------------+-------------------+------------+------------+-------+\n",
      "|hvfhs_license_num|dispatching_base_num|    pickup_datetime|   dropoff_datetime|PULocationID|DOLocationID|SR_Flag|\n",
      "+-----------------+--------------------+-------------------+-------------------+------------+------------+-------+\n",
      "|           HV0003|              B02765|2021-02-03 19:55:14|2021-02-03 20:05:58|         143|         164|   null|\n",
      "|           HV0003|              B02764|2021-02-04 12:57:01|2021-02-04 12:59:18|         205|         205|   null|\n",
      "|           HV0003|              B02880|2021-02-04 20:27:39|2021-02-04 20:37:28|         258|         134|   null|\n",
      "|           HV0003|              B02887|2021-02-05 06:21:51|2021-02-05 06:38:33|          57|         242|   null|\n",
      "|           HV0003|              B02865|2021-02-01 07:17:28|2021-02-01 07:25:20|          76|          35|   null|\n",
      "|           HV0003|              B02878|2021-02-03 07:35:03|2021-02-03 07:50:28|          32|         265|   null|\n",
      "|           HV0003|              B02888|2021-02-03 18:23:56|2021-02-03 18:35:25|         148|         113|   null|\n",
      "|           HV0005|              B02510|2021-02-03 10:47:07|2021-02-03 10:57:02|         210|          29|   null|\n",
      "|           HV0005|              B02510|2021-02-03 16:13:39|2021-02-03 16:31:34|         151|          74|   null|\n",
      "|           HV0005|              B02510|2021-02-03 15:50:06|2021-02-03 16:23:12|          69|          51|   null|\n",
      "|           HV0003|              B02887|2021-02-03 16:24:43|2021-02-03 16:50:08|          95|         258|   null|\n",
      "|           HV0003|              B02764|2021-02-04 20:16:13|2021-02-04 20:59:30|          92|         219|   null|\n",
      "|           HV0003|              B02617|2021-02-02 05:52:24|2021-02-02 05:59:20|         208|         185|   null|\n",
      "|           HV0005|              B02510|2021-02-02 18:13:33|2021-02-02 18:17:08|          74|          41|   null|\n",
      "|           HV0005|              B02510|2021-02-03 19:14:37|2021-02-03 19:37:32|          51|         241|   null|\n",
      "|           HV0003|              B02864|2021-02-01 12:28:36|2021-02-01 12:56:38|         250|         247|   null|\n",
      "|           HV0003|              B02877|2021-02-02 14:25:57|2021-02-02 14:32:23|         149|         178|   null|\n",
      "|           HV0003|              B02765|2021-02-03 04:30:30|2021-02-03 05:05:25|         177|          34|   null|\n",
      "|           HV0003|              B02883|2021-02-04 21:41:53|2021-02-04 21:51:49|          95|         196|   null|\n",
      "|           HV0003|              B02879|2021-02-02 08:24:31|2021-02-02 08:31:17|         142|         151|   null|\n",
      "+-----------------+--------------------+-------------------+-------------------+------------+------------+-------+\n",
      "only showing top 20 rows\n",
      "\n"
     ]
    }
   ],
   "source": [
    "df.show()"
   ]
  },
  {
   "cell_type": "code",
   "execution_count": 17,
   "id": "9f6f132f-a860-4440-bf45-0188f4f08a80",
   "metadata": {},
   "outputs": [
    {
     "name": "stdout",
     "output_type": "stream",
     "text": [
      "root\n",
      " |-- hvfhs_license_num: string (nullable = true)\n",
      " |-- dispatching_base_num: string (nullable = true)\n",
      " |-- pickup_datetime: timestamp (nullable = true)\n",
      " |-- dropoff_datetime: timestamp (nullable = true)\n",
      " |-- PULocationID: integer (nullable = true)\n",
      " |-- DOLocationID: integer (nullable = true)\n",
      " |-- SR_Flag: string (nullable = true)\n",
      "\n"
     ]
    }
   ],
   "source": [
    "df.printSchema()"
   ]
  },
  {
   "cell_type": "code",
   "execution_count": 8,
   "id": "d027b9a4-2099-4d06-8142-687f02a0dc53",
   "metadata": {},
   "outputs": [],
   "source": [
    "df.registerTempTable('data')"
   ]
  },
  {
   "cell_type": "code",
   "execution_count": 11,
   "id": "3aad1f41-2697-414b-a4f4-65a43c4cbf53",
   "metadata": {},
   "outputs": [
    {
     "name": "stdout",
     "output_type": "stream",
     "text": [
      "+-------+\n",
      "|records|\n",
      "+-------+\n",
      "| 367170|\n",
      "+-------+\n",
      "\n"
     ]
    }
   ],
   "source": [
    "# sql question 3\n",
    "spark.sql(\"\"\"\n",
    "    SELECT\n",
    "        COUNT(1) AS records\n",
    "    FROM\n",
    "        data\n",
    "    WHERE\n",
    "        DATE(pickup_datetime) = '2021-02-15'\n",
    "\"\"\").show()"
   ]
  },
  {
   "cell_type": "code",
   "execution_count": 15,
   "id": "91be4cf2-b0b5-4685-b7e5-6daead7c13e7",
   "metadata": {},
   "outputs": [
    {
     "data": {
      "text/plain": [
       "367170"
      ]
     },
     "execution_count": 15,
     "metadata": {},
     "output_type": "execute_result"
    }
   ],
   "source": [
    "# python question 3\n",
    "df.filter(F.to_date(df.pickup_datetime) == '2021-02-15').count()"
   ]
  },
  {
   "cell_type": "code",
   "execution_count": 23,
   "id": "6dc46343-fa43-403d-8b00-df8cf78d91de",
   "metadata": {},
   "outputs": [
    {
     "name": "stdout",
     "output_type": "stream",
     "text": [
      "+----------+-------------------+-------------------+------------------+\n",
      "|       day|    pickup_datetime|   dropoff_datetime|          duration|\n",
      "+----------+-------------------+-------------------+------------------+\n",
      "|2021-02-11|2021-02-11 13:40:44|2021-02-12 10:39:44|            1259.0|\n",
      "|2021-02-17|2021-02-17 15:54:53|2021-02-18 07:48:34| 953.6833333333333|\n",
      "|2021-02-20|2021-02-20 12:08:15|2021-02-21 00:22:14| 733.9833333333333|\n",
      "|2021-02-03|2021-02-03 20:24:25|2021-02-04 07:41:58|            677.55|\n",
      "|2021-02-19|2021-02-19 23:17:44|2021-02-20 09:44:01| 626.2833333333333|\n",
      "|2021-02-25|2021-02-25 17:13:35|2021-02-26 02:57:05|             583.5|\n",
      "|2021-02-20|2021-02-20 01:36:13|2021-02-20 11:16:19|             580.1|\n",
      "|2021-02-18|2021-02-18 15:24:19|2021-02-19 01:01:11| 576.8666666666667|\n",
      "|2021-02-18|2021-02-18 01:31:20|2021-02-18 11:07:15| 575.9166666666666|\n",
      "|2021-02-10|2021-02-10 20:51:39|2021-02-11 06:21:08| 569.4833333333333|\n",
      "|2021-02-10|2021-02-10 01:56:17|2021-02-10 10:57:33| 541.2666666666667|\n",
      "|2021-02-25|2021-02-25 09:18:18|2021-02-25 18:18:57|            540.65|\n",
      "|2021-02-21|2021-02-21 19:59:13|2021-02-22 04:56:16|            537.05|\n",
      "|2021-02-09|2021-02-09 18:36:13|2021-02-10 03:31:00| 534.7833333333333|\n",
      "|2021-02-06|2021-02-06 09:48:09|2021-02-06 18:32:16| 524.1166666666667|\n",
      "|2021-02-02|2021-02-02 09:42:30|2021-02-02 18:17:43| 515.2166666666667|\n",
      "|2021-02-10|2021-02-10 10:12:08|2021-02-10 18:46:24| 514.2666666666667|\n",
      "|2021-02-09|2021-02-09 13:30:13|2021-02-09 22:02:25|             512.2|\n",
      "|2021-02-21|2021-02-21 22:50:52|2021-02-22 07:21:52|             511.0|\n",
      "|2021-02-05|2021-02-05 21:32:33|2021-02-06 06:01:04|508.51666666666665|\n",
      "+----------+-------------------+-------------------+------------------+\n",
      "only showing top 20 rows\n",
      "\n"
     ]
    }
   ],
   "source": [
    "# sql question 4\n",
    "spark.sql(\"\"\"\n",
    "    SELECT\n",
    "        DATE(pickup_datetime) AS day,\n",
    "        pickup_datetime,\n",
    "        dropoff_datetime,\n",
    "        (unix_timestamp(dropoff_datetime) - unix_timestamp(pickup_datetime))/60 AS duration\n",
    "    FROM\n",
    "        data\n",
    "    ORDER BY 4 DESC\n",
    "\"\"\").show()"
   ]
  },
  {
   "cell_type": "code",
   "execution_count": 33,
   "id": "dce6bdb6-6827-4107-ab18-21eccbedbe3d",
   "metadata": {},
   "outputs": [
    {
     "name": "stdout",
     "output_type": "stream",
     "text": [
      "+-----------------+--------------------+-------------------+-------------------+------------+------------+-------+--------+\n",
      "|hvfhs_license_num|dispatching_base_num|    pickup_datetime|   dropoff_datetime|PULocationID|DOLocationID|SR_Flag|duration|\n",
      "+-----------------+--------------------+-------------------+-------------------+------------+------------+-------+--------+\n",
      "|           HV0005|              B02510|2021-02-11 13:40:44|2021-02-12 10:39:44|         247|          41|   null|   75540|\n",
      "|           HV0004|              B02800|2021-02-17 15:54:53|2021-02-18 07:48:34|         242|         254|   null|   57221|\n",
      "|           HV0004|              B02800|2021-02-20 12:08:15|2021-02-21 00:22:14|         188|          55|   null|   44039|\n",
      "|           HV0003|              B02864|2021-02-03 20:24:25|2021-02-04 07:41:58|          51|         147|   null|   40653|\n",
      "|           HV0003|              B02887|2021-02-19 23:17:44|2021-02-20 09:44:01|         210|         149|   null|   37577|\n",
      "|           HV0003|              B02764|2021-02-25 17:13:35|2021-02-26 02:57:05|         174|         126|   null|   35010|\n",
      "|           HV0003|              B02875|2021-02-20 01:36:13|2021-02-20 11:16:19|         242|          31|   null|   34806|\n",
      "|           HV0005|              B02510|2021-02-18 15:24:19|2021-02-19 01:01:11|         196|         197|   null|   34612|\n",
      "|           HV0003|              B02764|2021-02-18 01:31:20|2021-02-18 11:07:15|          89|         265|   null|   34555|\n",
      "|           HV0005|              B02510|2021-02-10 20:51:39|2021-02-11 06:21:08|         254|         259|   null|   34169|\n",
      "|           HV0003|              B02764|2021-02-10 01:56:17|2021-02-10 10:57:33|          61|         265|   null|   32476|\n",
      "|           HV0005|              B02510|2021-02-25 09:18:18|2021-02-25 18:18:57|         169|         265|   null|   32439|\n",
      "|           HV0005|              B02510|2021-02-21 19:59:13|2021-02-22 04:56:16|          10|          10|   null|   32223|\n",
      "|           HV0003|              B02864|2021-02-09 18:36:13|2021-02-10 03:31:00|          78|         147|   null|   32087|\n",
      "|           HV0004|              B02800|2021-02-06 09:48:09|2021-02-06 18:32:16|         229|         188|   null|   31447|\n",
      "|           HV0005|              B02510|2021-02-02 09:42:30|2021-02-02 18:17:43|          85|          85|   null|   30913|\n",
      "|           HV0005|              B02510|2021-02-10 10:12:08|2021-02-10 18:46:24|          29|         125|   null|   30856|\n",
      "|           HV0003|              B02764|2021-02-09 13:30:13|2021-02-09 22:02:25|         188|         265|   null|   30732|\n",
      "|           HV0005|              B02510|2021-02-21 22:50:52|2021-02-22 07:21:52|         177|          73|   null|   30660|\n",
      "|           HV0005|              B02510|2021-02-05 21:32:33|2021-02-06 06:01:04|          97|          72|   null|   30511|\n",
      "+-----------------+--------------------+-------------------+-------------------+------------+------------+-------+--------+\n",
      "only showing top 20 rows\n",
      "\n"
     ]
    }
   ],
   "source": [
    "# spark question 4\n",
    "df.withColumn(\"duration\", F.unix_timestamp(df.dropoff_datetime) - F.unix_timestamp(df.pickup_datetime)) \\\n",
    "    .orderBy(\"duration\", ascending=0).show()"
   ]
  },
  {
   "cell_type": "code",
   "execution_count": 37,
   "id": "8d8f2ef2-13c5-4bbb-94eb-557a01999397",
   "metadata": {},
   "outputs": [
    {
     "name": "stdout",
     "output_type": "stream",
     "text": [
      "+--------------------+---------+\n",
      "|dispatching_base_num|frequency|\n",
      "+--------------------+---------+\n",
      "|              B02510|  3233664|\n",
      "|              B02764|   965568|\n",
      "|              B02872|   882689|\n",
      "|              B02875|   685390|\n",
      "|              B02765|   559768|\n",
      "|              B02869|   429720|\n",
      "|              B02887|   322331|\n",
      "|              B02871|   312364|\n",
      "|              B02864|   311603|\n",
      "|              B02866|   311089|\n",
      "|              B02878|   305185|\n",
      "|              B02682|   303255|\n",
      "|              B02617|   274510|\n",
      "|              B02883|   251617|\n",
      "|              B02884|   244963|\n",
      "|              B02882|   232173|\n",
      "|              B02876|   215693|\n",
      "|              B02879|   210137|\n",
      "|              B02867|   200530|\n",
      "|              B02877|   198938|\n",
      "+--------------------+---------+\n",
      "only showing top 20 rows\n",
      "\n"
     ]
    }
   ],
   "source": [
    "# sql question 5\n",
    "spark.sql(\"\"\"\n",
    "    SELECT\n",
    "        dispatching_base_num,\n",
    "        COUNT(1) AS frequency\n",
    "    FROM\n",
    "        data\n",
    "    GROUP BY\n",
    "        dispatching_base_num\n",
    "    ORDER BY\n",
    "        frequency DESC\n",
    "\"\"\").show()"
   ]
  },
  {
   "cell_type": "code",
   "execution_count": 43,
   "id": "5c7d18e2-a75c-4e69-ac2c-65c4c8732ed0",
   "metadata": {},
   "outputs": [
    {
     "name": "stdout",
     "output_type": "stream",
     "text": [
      "+--------------------+-------+\n",
      "|dispatching_base_num|  count|\n",
      "+--------------------+-------+\n",
      "|              B02510|3233664|\n",
      "|              B02764| 965568|\n",
      "|              B02872| 882689|\n",
      "|              B02875| 685390|\n",
      "|              B02765| 559768|\n",
      "|              B02869| 429720|\n",
      "|              B02887| 322331|\n",
      "|              B02871| 312364|\n",
      "|              B02864| 311603|\n",
      "|              B02866| 311089|\n",
      "|              B02878| 305185|\n",
      "|              B02682| 303255|\n",
      "|              B02617| 274510|\n",
      "|              B02883| 251617|\n",
      "|              B02884| 244963|\n",
      "|              B02882| 232173|\n",
      "|              B02876| 215693|\n",
      "|              B02879| 210137|\n",
      "|              B02867| 200530|\n",
      "|              B02877| 198938|\n",
      "+--------------------+-------+\n",
      "only showing top 20 rows\n",
      "\n"
     ]
    }
   ],
   "source": [
    "# spark question 5\n",
    "df.groupBy(\"dispatching_base_num\").count().orderBy(\"count\", ascending=False).show()"
   ]
  },
  {
   "cell_type": "code",
   "execution_count": 49,
   "id": "5f4566f3-4dd1-45ad-95cf-f0597a66d0fa",
   "metadata": {},
   "outputs": [],
   "source": [
    "zone = spark.read.parquet(\"zones\").select(\"LocationID\", \"Zone\") \\\n",
    "    .withColumnRenamed(\"Zone\", \"zone\")"
   ]
  },
  {
   "cell_type": "code",
   "execution_count": 55,
   "id": "ec095af1-235b-46c6-864f-e46a045f588b",
   "metadata": {},
   "outputs": [],
   "source": [
    "data = df.join(zone, df.PULocationID == zone.LocationID) \\\n",
    "    .withColumnRenamed(\"zone\", \"pu_location\") \\\n",
    "    .drop(\"PULocationID\", \"LocationID\") \\\n",
    "    .join(zone, df.DOLocationID == zone.LocationID) \\\n",
    "    .withColumnRenamed(\"zone\", \"do_location\") \\\n",
    "    .drop(\"DOLocationID\", \"LocationID\")"
   ]
  },
  {
   "cell_type": "code",
   "execution_count": 56,
   "id": "e54b3d58-87c8-42e3-84e0-72fd9a0c4d7c",
   "metadata": {},
   "outputs": [
    {
     "name": "stdout",
     "output_type": "stream",
     "text": [
      "+-----------------+--------------------+-------------------+-------------------+-------+--------------------+--------------------+\n",
      "|hvfhs_license_num|dispatching_base_num|    pickup_datetime|   dropoff_datetime|SR_Flag|         pu_location|         do_location|\n",
      "+-----------------+--------------------+-------------------+-------------------+-------+--------------------+--------------------+\n",
      "|           HV0003|              B02765|2021-02-03 19:55:14|2021-02-03 20:05:58|   null| Lincoln Square West|       Midtown South|\n",
      "|           HV0003|              B02764|2021-02-04 12:57:01|2021-02-04 12:59:18|   null|        Saint Albans|        Saint Albans|\n",
      "|           HV0003|              B02880|2021-02-04 20:27:39|2021-02-04 20:37:28|   null|           Woodhaven|         Kew Gardens|\n",
      "|           HV0003|              B02887|2021-02-05 06:21:51|2021-02-05 06:38:33|   null|              Corona|Van Nest/Morris Park|\n",
      "|           HV0003|              B02865|2021-02-01 07:17:28|2021-02-01 07:25:20|   null|       East New York|         Brownsville|\n",
      "|           HV0003|              B02878|2021-02-03 07:35:03|2021-02-03 07:50:28|   null|           Bronxdale|                  NA|\n",
      "|           HV0003|              B02888|2021-02-03 18:23:56|2021-02-03 18:35:25|   null|     Lower East Side|Greenwich Village...|\n",
      "|           HV0005|              B02510|2021-02-03 10:47:07|2021-02-03 10:57:02|   null|      Sheepshead Bay|      Brighton Beach|\n",
      "|           HV0005|              B02510|2021-02-03 16:13:39|2021-02-03 16:31:34|   null|    Manhattan Valley|   East Harlem North|\n",
      "|           HV0005|              B02510|2021-02-03 15:50:06|2021-02-03 16:23:12|   null|East Concourse/Co...|          Co-Op City|\n",
      "|           HV0003|              B02887|2021-02-03 16:24:43|2021-02-03 16:50:08|   null|        Forest Hills|           Woodhaven|\n",
      "|           HV0003|              B02764|2021-02-04 20:16:13|2021-02-04 20:59:30|   null|            Flushing|Springfield Garde...|\n",
      "|           HV0003|              B02617|2021-02-02 05:52:24|2021-02-02 05:59:20|   null|Schuylerville/Edg...|      Pelham Parkway|\n",
      "|           HV0005|              B02510|2021-02-02 18:13:33|2021-02-02 18:17:08|   null|   East Harlem North|      Central Harlem|\n",
      "|           HV0005|              B02510|2021-02-03 19:14:37|2021-02-03 19:37:32|   null|          Co-Op City|Van Cortlandt Vil...|\n",
      "|           HV0003|              B02864|2021-02-01 12:28:36|2021-02-01 12:56:38|   null|Westchester Villa...|      West Concourse|\n",
      "|           HV0003|              B02877|2021-02-02 14:25:57|2021-02-02 14:32:23|   null|             Madison| Ocean Parkway South|\n",
      "|           HV0003|              B02765|2021-02-03 04:30:30|2021-02-03 05:05:25|   null|          Ocean Hill|  Brooklyn Navy Yard|\n",
      "|           HV0003|              B02883|2021-02-04 21:41:53|2021-02-04 21:51:49|   null|        Forest Hills|           Rego Park|\n",
      "|           HV0003|              B02879|2021-02-02 08:24:31|2021-02-02 08:31:17|   null| Lincoln Square East|    Manhattan Valley|\n",
      "+-----------------+--------------------+-------------------+-------------------+-------+--------------------+--------------------+\n",
      "only showing top 20 rows\n",
      "\n"
     ]
    }
   ],
   "source": [
    "data.show()"
   ]
  },
  {
   "cell_type": "code",
   "execution_count": 57,
   "id": "c544b0e7-b188-466b-9bd8-0f90511d6c21",
   "metadata": {},
   "outputs": [],
   "source": [
    "data.registerTempTable('data')"
   ]
  },
  {
   "cell_type": "code",
   "execution_count": 61,
   "id": "d14f2837-7fb6-45b4-8158-09e8dd812e78",
   "metadata": {},
   "outputs": [
    {
     "name": "stdout",
     "output_type": "stream",
     "text": [
      "+---------------------------------------------------+--------+\n",
      "|location                                           |count(1)|\n",
      "+---------------------------------------------------+--------+\n",
      "|East New York:East New York                        |45041   |\n",
      "|Borough Park:Borough Park                          |37329   |\n",
      "|Canarsie:Canarsie                                  |28026   |\n",
      "|Crown Heights North:Crown Heights North            |25976   |\n",
      "|Bay Ridge:Bay Ridge                                |17934   |\n",
      "|Jackson Heights:Jackson Heights                    |14688   |\n",
      "|Astoria:Astoria                                    |14688   |\n",
      "|Central Harlem North:Central Harlem North          |14481   |\n",
      "|Bushwick South:Bushwick South                      |14424   |\n",
      "|Flatbush/Ditmas Park:Flatbush/Ditmas Park          |13976   |\n",
      "|South Ozone Park:South Ozone Park                  |13716   |\n",
      "|Brownsville:Brownsville                            |12829   |\n",
      "|JFK Airport:NA                                     |12542   |\n",
      "|Prospect-Lefferts Gardens:Crown Heights North      |11814   |\n",
      "|Forest Hills:Forest Hills                          |11548   |\n",
      "|Bushwick North:Bushwick South                      |11491   |\n",
      "|Bushwick South:Bushwick North                      |11487   |\n",
      "|Crown Heights North:Prospect-Lefferts Gardens      |11462   |\n",
      "|Crown Heights North:Stuyvesant Heights             |11342   |\n",
      "|Prospect-Lefferts Gardens:Prospect-Lefferts Gardens|11308   |\n",
      "+---------------------------------------------------+--------+\n",
      "only showing top 20 rows\n",
      "\n"
     ]
    }
   ],
   "source": [
    "# sql question 6\n",
    "spark.sql(\"\"\"\n",
    "    SELECT\n",
    "        pu_location || ':' || do_location AS location,\n",
    "        COUNT(1)\n",
    "    FROM\n",
    "        data\n",
    "    GROUP BY\n",
    "        1\n",
    "    ORDER BY\n",
    "        2 DESC\n",
    "\"\"\").show(truncate=False)"
   ]
  }
 ],
 "metadata": {
  "kernelspec": {
   "display_name": "Python 3 (ipykernel)",
   "language": "python",
   "name": "python3"
  },
  "language_info": {
   "codemirror_mode": {
    "name": "ipython",
    "version": 3
   },
   "file_extension": ".py",
   "mimetype": "text/x-python",
   "name": "python",
   "nbconvert_exporter": "python",
   "pygments_lexer": "ipython3",
   "version": "3.7.11"
  }
 },
 "nbformat": 4,
 "nbformat_minor": 5
}
